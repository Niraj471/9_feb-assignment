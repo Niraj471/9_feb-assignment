{
 "cells": [
  {
   "cell_type": "code",
   "execution_count": 5,
   "id": "26142824-2c59-42f2-8254-f3abdf9dfc89",
   "metadata": {},
   "outputs": [],
   "source": [
    "##Q1.>\n",
    "class vehicle:\n",
    "    \n",
    "    def __init__(self,name_of_vehicle,max_speed,average_of_vehicle):\n",
    "        \n",
    "        \n",
    "        self.name_of_vehicle = name_of_vehicle\n",
    "        self.max_speed = max_speed\n",
    "        self.average_of_vehicle = average_of_vehicle\n",
    "        \n",
    "        \n",
    "        \n",
    "    def return_vehicle_details(self): \n",
    "        return self.name_of_vehicle ,self.max_speed ,self.average_of_vehicle\n",
    "        "
   ]
  },
  {
   "cell_type": "code",
   "execution_count": 2,
   "id": "2599c9a3-1f28-4004-aeb2-7e5806f23736",
   "metadata": {},
   "outputs": [],
   "source": [
    "class_obj = vehicle(\"Santro\",140,20)"
   ]
  },
  {
   "cell_type": "code",
   "execution_count": 6,
   "id": "f3a10dc5-9aa2-4928-a7a8-bdc565bf733e",
   "metadata": {},
   "outputs": [
    {
     "data": {
      "text/plain": [
       "140"
      ]
     },
     "execution_count": 6,
     "metadata": {},
     "output_type": "execute_result"
    }
   ],
   "source": [
    "class_obj.max_speed"
   ]
  },
  {
   "cell_type": "code",
   "execution_count": 7,
   "id": "1429f80d-8006-4d77-811a-eb7f05b7ed9f",
   "metadata": {},
   "outputs": [],
   "source": [
    "##Q2.>\n",
    "\n",
    "class vehicle:\n",
    "    \n",
    "    def __init__(self,name):\n",
    "        \n",
    "        self.name = name"
   ]
  },
  {
   "cell_type": "code",
   "execution_count": 8,
   "id": "6e957617-8c8d-4b21-8ccb-6604b78c4503",
   "metadata": {},
   "outputs": [],
   "source": [
    "class car(vehicle):\n",
    "    \n",
    "    def seating_capacity(self,capacity):\n",
    "        return f\"{self.name} has seating capacity of {capacity}\"\n",
    "    \n",
    "    "
   ]
  },
  {
   "cell_type": "code",
   "execution_count": 12,
   "id": "cc32c2e4-28fc-4920-b703-04466277e46a",
   "metadata": {},
   "outputs": [],
   "source": [
    " class_obj = car(\"Santro\")\n",
    "  "
   ]
  },
  {
   "cell_type": "code",
   "execution_count": 13,
   "id": "73a0f212-7705-4f87-85ca-efcceb0fd718",
   "metadata": {},
   "outputs": [
    {
     "name": "stdout",
     "output_type": "stream",
     "text": [
      "Santro has seating capacity of 5\n"
     ]
    }
   ],
   "source": [
    "print(class_obj.seating_capacity(5))"
   ]
  },
  {
   "cell_type": "code",
   "execution_count": 14,
   "id": "8587c065-c349-4497-b853-1f993af51aaf",
   "metadata": {},
   "outputs": [],
   "source": [
    "##Q3.>\n",
    "##ans.Multiple Inheritance is a feature of C++ where a class can inherit from more than one classes.  The constructors of inherited classes are called in the same order in which they are inherited. For example, in the following program, B’s constructor is called before A’s constructor.\n",
    "     ##A class can be derived from more than one base class.\n",
    "\n",
    "class class1:\n",
    "    \n",
    "    def test_class1(self):\n",
    "        return \" this is the  of class1\""
   ]
  },
  {
   "cell_type": "code",
   "execution_count": 15,
   "id": "274ae910-4208-4eb9-96fb-ee56f49e9b55",
   "metadata": {},
   "outputs": [],
   "source": [
    "class class2:\n",
    "    \n",
    "    def test_class2(self):\n",
    "        return \" this the  of class2\""
   ]
  },
  {
   "cell_type": "code",
   "execution_count": 16,
   "id": "db3f0a16-ad3f-4b6e-8288-b42dca60f351",
   "metadata": {},
   "outputs": [],
   "source": [
    "class class3(class1,class2):\n",
    "    def test_class3(self):\n",
    "        pass\n",
    "        "
   ]
  },
  {
   "cell_type": "code",
   "execution_count": 17,
   "id": "6b23a478-a13f-41a5-8338-771bc9e51d3b",
   "metadata": {},
   "outputs": [],
   "source": [
    "class3_obj = class3()"
   ]
  },
  {
   "cell_type": "code",
   "execution_count": 18,
   "id": "75bb0fe5-c36e-4811-9306-866b90745fd6",
   "metadata": {},
   "outputs": [
    {
     "data": {
      "text/plain": [
       "' this the  of class2'"
      ]
     },
     "execution_count": 18,
     "metadata": {},
     "output_type": "execute_result"
    }
   ],
   "source": [
    "class3_obj.test_class2()"
   ]
  },
  {
   "cell_type": "code",
   "execution_count": 20,
   "id": "102a3098-159e-4249-8397-50a458e6dc09",
   "metadata": {},
   "outputs": [],
   "source": [
    "##Q4.>\n",
    "##Ans.In Python, getters and setters are not the same as those in other object-oriented programming languages. Basically, the main purpose of using getters and setters in object-oriented programs is to ensure data encapsulation. Private variables in python are not actually hidden fields like in other object oriented languages. Getters and Setters in python are often used when\n",
    "class employee :\n",
    "    def __init__(self,name,salary) :\n",
    "        self.name = name\n",
    "        self.salary = salary\n",
    "    def set_salary(self,salary):\n",
    "        self.speed = salary\n",
    "        \n",
    "    def get_salary(self):\n",
    "        return self.salary"
   ]
  },
  {
   "cell_type": "code",
   "execution_count": 21,
   "id": "bfcaccc2-c89e-4e57-a01d-9cddff06979f",
   "metadata": {},
   "outputs": [],
   "source": [
    "employe1 = employee(\"rakesh\",45000)"
   ]
  },
  {
   "cell_type": "code",
   "execution_count": 22,
   "id": "c4cf08b9-fe18-49d9-9be3-96bd85e41702",
   "metadata": {},
   "outputs": [
    {
     "data": {
      "text/plain": [
       "45000"
      ]
     },
     "execution_count": 22,
     "metadata": {},
     "output_type": "execute_result"
    }
   ],
   "source": [
    "employe1.get_salary()"
   ]
  },
  {
   "cell_type": "code",
   "execution_count": 23,
   "id": "0ddca5ba-e366-4aee-bf61-99d2c30dc99d",
   "metadata": {},
   "outputs": [],
   "source": [
    "employe1.set_salary(50000)"
   ]
  },
  {
   "cell_type": "code",
   "execution_count": null,
   "id": "31f81fbe-949f-4f6e-a246-68f70f7ae08d",
   "metadata": {},
   "outputs": [],
   "source": []
  }
 ],
 "metadata": {
  "kernelspec": {
   "display_name": "Python 3 (ipykernel)",
   "language": "python",
   "name": "python3"
  },
  "language_info": {
   "codemirror_mode": {
    "name": "ipython",
    "version": 3
   },
   "file_extension": ".py",
   "mimetype": "text/x-python",
   "name": "python",
   "nbconvert_exporter": "python",
   "pygments_lexer": "ipython3",
   "version": "3.10.8"
  }
 },
 "nbformat": 4,
 "nbformat_minor": 5
}
